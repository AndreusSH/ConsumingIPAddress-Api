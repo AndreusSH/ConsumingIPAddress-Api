{
  "nbformat": 4,
  "nbformat_minor": 0,
  "metadata": {
    "colab": {
      "provenance": [],
      "authorship_tag": "ABX9TyOQbtR3VrIQ2RLV+W0VpBy3",
      "include_colab_link": true
    },
    "kernelspec": {
      "name": "python3",
      "display_name": "Python 3"
    },
    "language_info": {
      "name": "python"
    }
  },
  "cells": [
    {
      "cell_type": "markdown",
      "metadata": {
        "id": "view-in-github",
        "colab_type": "text"
      },
      "source": [
        "<a href=\"https://colab.research.google.com/github/AndreusSH/ConsumingIPAddress-Api/blob/master/How_to_use_requests_library.ipynb\" target=\"_parent\"><img src=\"https://colab.research.google.com/assets/colab-badge.svg\" alt=\"Open In Colab\"/></a>"
      ]
    },
    {
      "cell_type": "markdown",
      "source": [
        "Use requests library in Python to extract HTML from a website"
      ],
      "metadata": {
        "id": "DpaNgLBCPcrU"
      }
    },
    {
      "cell_type": "code",
      "source": [
        "import requests"
      ],
      "metadata": {
        "id": "PRm5HA_hP06o"
      },
      "execution_count": null,
      "outputs": []
    },
    {
      "cell_type": "code",
      "source": [
        "#Lite index of various websites including Hacker News, Reddit, Slashdot and more\n",
        "url = 'https://www.pxlet.com/'"
      ],
      "metadata": {
        "id": "C0BJGhQdQY5-"
      },
      "execution_count": null,
      "outputs": []
    },
    {
      "cell_type": "code",
      "source": [
        "# Using Jupyther, I can render directly the website\n",
        "from IPython.display import IFrame\n",
        "IFrame(src=url, width='100%', height='250ps')"
      ],
      "metadata": {
        "id": "IwcWMG9fQmma"
      },
      "execution_count": null,
      "outputs": []
    },
    {
      "cell_type": "code",
      "source": [
        "answer = requests.get(url)"
      ],
      "metadata": {
        "id": "KVFmqZVwRYjP"
      },
      "execution_count": null,
      "outputs": []
    },
    {
      "cell_type": "code",
      "source": [
        "print(answer)"
      ],
      "metadata": {
        "id": "DVNUbZp0SyfK"
      },
      "execution_count": null,
      "outputs": []
    },
    {
      "cell_type": "code",
      "source": [
        "# what could we do with an answer\n",
        "print(answer.url)\n",
        "print(answer.status_code)\n",
        "print(answer.reason)"
      ],
      "metadata": {
        "id": "QueYxJkiTC7K"
      },
      "execution_count": null,
      "outputs": []
    },
    {
      "cell_type": "code",
      "source": [
        "#i get the html content of the page\n",
        "print(answer.content)\n"
      ],
      "metadata": {
        "id": "QEOSVR_CTIid"
      },
      "execution_count": null,
      "outputs": []
    },
    {
      "cell_type": "code",
      "source": [
        "#we use beautiful soup to make sense of the HTML response, this approach takes advantage of the tags\n",
        "from bs4 import BeautifulSoup\n"
      ],
      "metadata": {
        "id": "rd0CNwlvU3sj"
      },
      "execution_count": null,
      "outputs": []
    },
    {
      "cell_type": "code",
      "source": [
        "soup = BeautifulSoup(answer.content, 'html.parser')\n"
      ],
      "metadata": {
        "id": "XOrLZY0JU4gV"
      },
      "execution_count": null,
      "outputs": []
    },
    {
      "cell_type": "code",
      "source": [
        "print(soup.prettify())\n"
      ],
      "metadata": {
        "id": "1Gu4r5t9VCUE"
      },
      "execution_count": null,
      "outputs": []
    },
    {
      "cell_type": "code",
      "source": [
        "soup.title"
      ],
      "metadata": {
        "id": "yKUeg0PMVLbz"
      },
      "execution_count": null,
      "outputs": []
    },
    {
      "cell_type": "code",
      "source": [
        "# let's find the first 20 links\n",
        "soup.find_all('a')[:20]"
      ],
      "metadata": {
        "id": "F_M1ogqkVQR5"
      },
      "execution_count": null,
      "outputs": []
    },
    {
      "cell_type": "code",
      "source": [
        "# and get the title of one\n",
        "soup.find_all('a')[6].get_text()"
      ],
      "metadata": {
        "id": "yLxp3YFdVeps"
      },
      "execution_count": null,
      "outputs": []
    }
  ]
}